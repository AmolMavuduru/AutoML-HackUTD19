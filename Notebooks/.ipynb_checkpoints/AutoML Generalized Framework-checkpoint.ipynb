{
 "cells": [
  {
   "cell_type": "markdown",
   "metadata": {},
   "source": [
    "# AutoML Generalized Framework"
   ]
  },
  {
   "cell_type": "code",
   "execution_count": null,
   "metadata": {
    "collapsed": true
   },
   "outputs": [],
   "source": [
    "import numpy as np\n",
    "import pandas as pd\n",
    "from sklearn import *\n",
    "from sklearn.model_selection import train_test_split\n",
    "from sklearn.metrics import *\n",
    "from tpot import TPOTClassifier, TPOTRegressor\n",
    "from datacleaner import autoclean\n",
    "from collections import defaultdict"
   ]
  },
  {
   "cell_type": "code",
   "execution_count": null,
   "metadata": {
    "collapsed": true
   },
   "outputs": [],
   "source": [
    "class AutoMLEstimator(object):\n",
    "    \n",
    "    def __init__(self, **kwargs):\n",
    "        \n",
    "        self.task = kwargs['task']\n",
    "        self.speed = kwargs['speed']\n",
    "        self.test_size = kwargs['test_size']\n",
    "        if self.task == 'classification':\n",
    "            self.tpot_model = TPOTClassifier(generations=self.speed, population_size=self.speed*10, verbosity=2, n_jobs=-1)\n",
    "        else:\n",
    "            self.tpot_model = TPOTRegressor(generations=self.speed, population_size=self.speed*10, verbosity=2, n_jobs=-1)\n",
    "        \n",
    "    def preprocess_data(self, data, target_column):\n",
    "        \n",
    "        clean_data = autoclean(data)\n",
    "        X = clean_data.drop(target_column, axis=1)\n",
    "        y = clean_data[target_column]\n",
    "        \n",
    "        return X, y\n",
    "    \n",
    "    def split_data(self, X, y):\n",
    "        \n",
    "        self.X_train, self.X_test, self.y_train, self.y_test = train_test_split(X, y, test_size=self.test_size) \n",
    "    \n",
    "    def fit_model(self):\n",
    "        \n",
    "        self.tpot_model.fit(self.X_train, self.y_train)\n",
    "        \n",
    "    def run_automl(self, data, target_column):\n",
    "        \n",
    "        self.X, self.y = self.preprocess_data(data, target_column)\n",
    "        self.split_data(self.X, self.y)\n",
    "        self.fit_model()\n",
    "    \n",
    "    def evaluate_model(self):\n",
    "        \n",
    "        metrics = defaultdict()\n",
    "        pred = self.tpot_model.fitted_pipeline_.predict(self.X_test)\n",
    "        \n",
    "        if self.task == 'classification':\n",
    "            \n",
    "            metrics['accuracy'] = accuracy_score(pred, self.y_test)\n",
    "            metrics['precision'] = precision_score(pred, self.y_test)\n",
    "            metrics['recall'] = recall_score(pred, self.y_test)\n",
    "            \n",
    "        else:\n",
    "            \n",
    "            metrics['r2_score'] = r2_score(pred, self.y_test)\n",
    "            metrics['mean_absolute_error'] = mean_absolute_error(pred, self.y_test)\n",
    "            metrics['mean_squared_error'] = mean_squared_error(pred, self.y_test)\n",
    "        \n",
    "        return metrics"
   ]
  },
  {
   "cell_type": "code",
   "execution_count": null,
   "metadata": {
    "collapsed": true
   },
   "outputs": [],
   "source": [
    "from sklearn.datasets import load_breast_cancer\n",
    "data = load_breast_cancer()"
   ]
  },
  {
   "cell_type": "code",
   "execution_count": null,
   "metadata": {
    "collapsed": false
   },
   "outputs": [],
   "source": [
    "data.keys()"
   ]
  },
  {
   "cell_type": "code",
   "execution_count": null,
   "metadata": {
    "collapsed": false
   },
   "outputs": [],
   "source": [
    "data['data'].shape"
   ]
  },
  {
   "cell_type": "code",
   "execution_count": null,
   "metadata": {
    "collapsed": false
   },
   "outputs": [],
   "source": [
    "data['feature_names'].shape"
   ]
  },
  {
   "cell_type": "code",
   "execution_count": null,
   "metadata": {
    "collapsed": false
   },
   "outputs": [],
   "source": [
    "data['target'].shape"
   ]
  },
  {
   "cell_type": "code",
   "execution_count": null,
   "metadata": {
    "collapsed": false
   },
   "outputs": [],
   "source": [
    "data['target_names']"
   ]
  },
  {
   "cell_type": "code",
   "execution_count": null,
   "metadata": {
    "collapsed": true
   },
   "outputs": [],
   "source": [
    "df = pd.DataFrame(columns=data['feature_names'], data=data['data'])\n",
    "df['target'] = data['target']"
   ]
  },
  {
   "cell_type": "code",
   "execution_count": null,
   "metadata": {
    "collapsed": false
   },
   "outputs": [],
   "source": [
    "auto_ml_model = AutoMLEstimator(task='classification', speed=2, test_size=0.3)\n",
    "auto_ml_model.run_automl(df, target_column='target')"
   ]
  },
  {
   "cell_type": "code",
   "execution_count": null,
   "metadata": {
    "collapsed": false
   },
   "outputs": [],
   "source": [
    "list(auto_ml_model.tpot_model.evaluated_individuals_.values())[0]"
   ]
  },
  {
   "cell_type": "code",
   "execution_count": null,
   "metadata": {
    "collapsed": true
   },
   "outputs": [],
   "source": [
    "from sklearn.datasets import load_boston\n",
    "data = load_boston()\n",
    "df = pd.DataFrame(columns=data['feature_names'], data=data['data'])\n",
    "df['target'] = data['target']"
   ]
  },
  {
   "cell_type": "code",
   "execution_count": null,
   "metadata": {
    "collapsed": false
   },
   "outputs": [],
   "source": [
    "auto_ml_model = AutoMLEstimator(task='regression', speed=5, test_size=0.3)\n",
    "auto_ml_model.run_automl(df, target_column='target')"
   ]
  },
  {
   "cell_type": "code",
   "execution_count": null,
   "metadata": {
    "collapsed": false
   },
   "outputs": [],
   "source": [
    "auto_ml_model.evaluate_model()"
   ]
  },
  {
   "cell_type": "code",
   "execution_count": null,
   "metadata": {
    "collapsed": true
   },
   "outputs": [],
   "source": []
  }
 ],
 "metadata": {
  "anaconda-cloud": {},
  "kernelspec": {
   "display_name": "Python [conda root]",
   "language": "python",
   "name": "conda-root-py"
  },
  "language_info": {
   "codemirror_mode": {
    "name": "ipython",
    "version": 3
   },
   "file_extension": ".py",
   "mimetype": "text/x-python",
   "name": "python",
   "nbconvert_exporter": "python",
   "pygments_lexer": "ipython3",
   "version": "3.5.6"
  }
 },
 "nbformat": 4,
 "nbformat_minor": 2
}
