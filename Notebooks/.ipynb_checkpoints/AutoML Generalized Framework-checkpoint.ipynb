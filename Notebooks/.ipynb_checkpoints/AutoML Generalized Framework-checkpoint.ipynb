{
 "cells": [
  {
   "cell_type": "markdown",
   "metadata": {},
   "source": [
    "# AutoML Generalized Framework"
   ]
  },
  {
   "cell_type": "code",
   "execution_count": 52,
   "metadata": {
    "collapsed": false
   },
   "outputs": [],
   "source": [
    "import numpy as np\n",
    "import pandas as pd\n",
    "from sklearn import *\n",
    "from sklearn.model_selection import train_test_split\n",
    "from sklearn.metrics import *\n",
    "from tpot import TPOTClassifier, TPOTRegressor\n",
    "from datacleaner import autoclean\n",
    "from collections import defaultdict\n",
    "from yellowbrick.model_selection import FeatureImportances\n",
    "import matplotlib.pyplot as plt\n",
    "%matplotlib inline"
   ]
  },
  {
   "cell_type": "code",
   "execution_count": 2,
   "metadata": {
    "collapsed": true
   },
   "outputs": [],
   "source": [
    "class AutoMLEstimator(object):\n",
    "    \n",
    "    def __init__(self, **kwargs):\n",
    "        \n",
    "        self.task = kwargs['task']\n",
    "        self.speed = kwargs['speed']\n",
    "        self.test_size = kwargs['test_size']\n",
    "        if self.task == 'classification':\n",
    "            self.tpot_model = TPOTClassifier(generations=self.speed, population_size=self.speed*10, verbosity=2, n_jobs=-1)\n",
    "        else:\n",
    "            self.tpot_model = TPOTRegressor(generations=self.speed, population_size=self.speed*10, verbosity=2, n_jobs=-1)\n",
    "        \n",
    "    def preprocess_data(self, data, target_column):\n",
    "        \n",
    "        clean_data = autoclean(data)\n",
    "        X = clean_data.drop(target_column, axis=1)\n",
    "        y = clean_data[target_column]\n",
    "        \n",
    "        return X, y\n",
    "    \n",
    "    def split_data(self, X, y):\n",
    "        \n",
    "        self.X_train, self.X_test, self.y_train, self.y_test = train_test_split(X, y, test_size=self.test_size) \n",
    "    \n",
    "    def fit_model(self):\n",
    "        \n",
    "        self.tpot_model.fit(self.X_train, self.y_train)\n",
    "        \n",
    "    def run_automl(self, data, target_column):\n",
    "        \n",
    "        self.X, self.y = self.preprocess_data(data, target_column)\n",
    "        self.split_data(self.X, self.y)\n",
    "        self.fit_model()\n",
    "    \n",
    "    def evaluate_model(self):\n",
    "        \n",
    "        metrics = defaultdict()\n",
    "        pred = self.tpot_model.fitted_pipeline_.predict(self.X_test)\n",
    "        \n",
    "        if self.task == 'classification':\n",
    "            \n",
    "            metrics['accuracy'] = accuracy_score(pred, self.y_test)\n",
    "            metrics['precision'] = precision_score(pred, self.y_test)\n",
    "            metrics['recall'] = recall_score(pred, self.y_test)\n",
    "            \n",
    "        else:\n",
    "            \n",
    "            metrics['r2_score'] = r2_score(pred, self.y_test)\n",
    "            metrics['mean_absolute_error'] = mean_absolute_error(pred, self.y_test)\n",
    "            metrics['mean_squared_error'] = mean_squared_error(pred, self.y_test)\n",
    "        \n",
    "        return metrics"
   ]
  },
  {
   "cell_type": "code",
   "execution_count": 3,
   "metadata": {
    "collapsed": true
   },
   "outputs": [],
   "source": [
    "from sklearn.datasets import load_breast_cancer\n",
    "data = load_breast_cancer()"
   ]
  },
  {
   "cell_type": "code",
   "execution_count": 4,
   "metadata": {
    "collapsed": false
   },
   "outputs": [
    {
     "data": {
      "text/plain": [
       "dict_keys(['data', 'filename', 'feature_names', 'target_names', 'DESCR', 'target'])"
      ]
     },
     "execution_count": 4,
     "metadata": {},
     "output_type": "execute_result"
    }
   ],
   "source": [
    "data.keys()"
   ]
  },
  {
   "cell_type": "code",
   "execution_count": 5,
   "metadata": {
    "collapsed": false
   },
   "outputs": [
    {
     "data": {
      "text/plain": [
       "(569, 30)"
      ]
     },
     "execution_count": 5,
     "metadata": {},
     "output_type": "execute_result"
    }
   ],
   "source": [
    "data['data'].shape"
   ]
  },
  {
   "cell_type": "code",
   "execution_count": 6,
   "metadata": {
    "collapsed": false
   },
   "outputs": [
    {
     "data": {
      "text/plain": [
       "(30,)"
      ]
     },
     "execution_count": 6,
     "metadata": {},
     "output_type": "execute_result"
    }
   ],
   "source": [
    "data['feature_names'].shape"
   ]
  },
  {
   "cell_type": "code",
   "execution_count": 7,
   "metadata": {
    "collapsed": false
   },
   "outputs": [
    {
     "data": {
      "text/plain": [
       "(569,)"
      ]
     },
     "execution_count": 7,
     "metadata": {},
     "output_type": "execute_result"
    }
   ],
   "source": [
    "data['target'].shape"
   ]
  },
  {
   "cell_type": "code",
   "execution_count": 8,
   "metadata": {
    "collapsed": false
   },
   "outputs": [
    {
     "data": {
      "text/plain": [
       "array(['malignant', 'benign'], dtype='<U9')"
      ]
     },
     "execution_count": 8,
     "metadata": {},
     "output_type": "execute_result"
    }
   ],
   "source": [
    "data['target_names']"
   ]
  },
  {
   "cell_type": "code",
   "execution_count": 9,
   "metadata": {
    "collapsed": true
   },
   "outputs": [],
   "source": [
    "df = pd.DataFrame(columns=data['feature_names'], data=data['data'])\n",
    "df['target'] = data['target']"
   ]
  },
  {
   "cell_type": "code",
   "execution_count": 10,
   "metadata": {
    "collapsed": false
   },
   "outputs": [
    {
     "name": "stdout",
     "output_type": "stream",
     "text": [
      "Generation 1 - Current best internal CV score: 0.971377607899347\n",
      "Generation 2 - Current best internal CV score: 0.9735509900727293\n",
      "Generation 3 - Current best internal CV score: 0.9758220523437915\n",
      "Generation 4 - Current best internal CV score: 0.9779954345171736\n",
      "\n",
      "\n",
      "TPOT closed during evaluation in one generation.\n",
      "WARNING: TPOT may not provide a good pipeline if TPOT is stopped/interrupted in a early generation.\n",
      "\n",
      "\n",
      "TPOT closed prematurely. Will use the current best pipeline.\n",
      "\n",
      "Best pipeline: ExtraTreesClassifier(GradientBoostingClassifier(input_matrix, learning_rate=0.1, max_depth=2, max_features=0.5, min_samples_leaf=20, min_samples_split=5, n_estimators=100, subsample=0.3), bootstrap=True, criterion=entropy, max_features=0.3, min_samples_leaf=10, min_samples_split=11, n_estimators=100)\n"
     ]
    }
   ],
   "source": [
    "auto_ml_model = AutoMLEstimator(task='classification', speed=3, test_size=0.2)\n",
    "auto_ml_model.run_automl(df, target_column='target')"
   ]
  },
  {
   "cell_type": "code",
   "execution_count": 11,
   "metadata": {
    "collapsed": false
   },
   "outputs": [
    {
     "data": {
      "text/plain": [
       "{'crossover_count': 0,\n",
       " 'generation': 'INVALID',\n",
       " 'internal_cv_score': 0.9493003132133568,\n",
       " 'mutation_count': 1,\n",
       " 'operator_count': 2,\n",
       " 'predecessor': ('GaussianNB(LinearSVC(input_matrix, LinearSVC__C=0.0001, LinearSVC__dual=True, LinearSVC__loss=hinge, LinearSVC__penalty=l2, LinearSVC__tol=0.0001))',)}"
      ]
     },
     "execution_count": 11,
     "metadata": {},
     "output_type": "execute_result"
    }
   ],
   "source": [
    "list(auto_ml_model.tpot_model.evaluated_individuals_.values())[0]"
   ]
  },
  {
   "cell_type": "code",
   "execution_count": 12,
   "metadata": {
    "collapsed": true
   },
   "outputs": [],
   "source": [
    "from sklearn.datasets import load_boston\n",
    "data = load_boston()\n",
    "df = pd.DataFrame(columns=data['feature_names'], data=data['data'])\n",
    "df['target'] = data['target']\n",
    "df.to_csv('boston_housing.csv')"
   ]
  },
  {
   "cell_type": "code",
   "execution_count": 13,
   "metadata": {
    "collapsed": false
   },
   "outputs": [
    {
     "name": "stdout",
     "output_type": "stream",
     "text": [
      "Generation 1 - Current best internal CV score: -11.059314890579422\n",
      "Generation 2 - Current best internal CV score: -11.059314890579422\n",
      "Generation 3 - Current best internal CV score: -11.059314890579422\n",
      "Generation 4 - Current best internal CV score: -10.467802951255536\n",
      "Generation 5 - Current best internal CV score: -10.467802951255536\n",
      "\n",
      "Best pipeline: XGBRegressor(ExtraTreesRegressor(input_matrix, bootstrap=False, max_features=0.8, min_samples_leaf=2, min_samples_split=6, n_estimators=100), learning_rate=0.1, max_depth=4, min_child_weight=1, n_estimators=100, nthread=1, objective=reg:squarederror, subsample=0.25)\n"
     ]
    }
   ],
   "source": [
    "auto_ml_model = AutoMLEstimator(task='regression', speed=3, test_size=0.3)\n",
    "auto_ml_model.run_automl(df, target_column='target')"
   ]
  },
  {
   "cell_type": "code",
   "execution_count": 14,
   "metadata": {
    "collapsed": false
   },
   "outputs": [
    {
     "data": {
      "text/plain": [
       "defaultdict(None,\n",
       "            {'mean_absolute_error': 2.455483083348525,\n",
       "             'mean_squared_error': 12.252844950523748,\n",
       "             'r2_score': 0.8368706920462654})"
      ]
     },
     "execution_count": 14,
     "metadata": {},
     "output_type": "execute_result"
    }
   ],
   "source": [
    "auto_ml_model.evaluate_model()"
   ]
  },
  {
   "cell_type": "code",
   "execution_count": 15,
   "metadata": {
    "collapsed": false
   },
   "outputs": [
    {
     "data": {
      "text/plain": [
       "'XGBRegressor'"
      ]
     },
     "execution_count": 15,
     "metadata": {},
     "output_type": "execute_result"
    }
   ],
   "source": [
    "type(auto_ml_model.tpot_model.fitted_pipeline_[-1]).__name__"
   ]
  },
  {
   "cell_type": "code",
   "execution_count": 18,
   "metadata": {
    "collapsed": false
   },
   "outputs": [
    {
     "data": {
      "text/plain": [
       "array([0.6365785 , 0.03212562, 0.04282403, 0.01748819, 0.00345527,\n",
       "       0.02089561, 0.03441943, 0.01834604, 0.05724856, 0.02714156,\n",
       "       0.02433833, 0.02219093, 0.03140829, 0.03153977], dtype=float32)"
      ]
     },
     "execution_count": 18,
     "metadata": {},
     "output_type": "execute_result"
    }
   ],
   "source": [
    "auto_ml_model.tpot_model.fitted_pipeline_.steps[-1][1].feature_importances_"
   ]
  },
  {
   "cell_type": "code",
   "execution_count": 22,
   "metadata": {
    "collapsed": false
   },
   "outputs": [],
   "source": [
    "best_model = auto_ml_model.tpot_model.fitted_pipeline_.steps[-1][1]"
   ]
  },
  {
   "cell_type": "code",
   "execution_count": 57,
   "metadata": {
    "collapsed": true
   },
   "outputs": [],
   "source": [
    "import matplotlib.pyplot as plt\n",
    "import operator\n",
    "from collections import OrderedDict\n",
    "import io\n",
    "import base64\n",
    "\n",
    "def get_feature_importances(model, X, y):\n",
    "    \n",
    "    img = io.BytesIO()\n",
    "    model.fit(X, y)\n",
    "    importances = model.feature_importances_\n",
    "    feature_names = list(X.columns)\n",
    "    feat_importances = dict(zip(feature_names, importances))\n",
    "    feat_importances = OrderedDict(sorted(feat_importances.items(), key=operator.itemgetter(1)))\n",
    "    plt.figure(figsize=(5, 10))\n",
    "    plt.xticks(range(len(feat_importances)), list(feat_importances.keys()))\n",
    "    plt.bar(range(len(feat_importances)), list(feat_importances.values()), align='center')\n",
    "    plt.savefig(img, format='png')\n",
    "    img.seek(0)\n",
    "    graph_url = base64.b64encode(img.getvalue()).decode()\n",
    "    plt.close()\n",
    "    return 'data:image/png;base64,{}'.format(graph_url)"
   ]
  },
  {
   "cell_type": "code",
   "execution_count": 58,
   "metadata": {
    "collapsed": false
   },
   "outputs": [
    {
     "name": "stderr",
     "output_type": "stream",
     "text": [
      "//anaconda/lib/python3.5/site-packages/xgboost/core.py:587: FutureWarning: Series.base is deprecated and will be removed in a future version\n",
      "  if getattr(data, 'base', None) is not None and \\\n",
      "//anaconda/lib/python3.5/site-packages/xgboost/core.py:588: FutureWarning: Series.base is deprecated and will be removed in a future version\n",
      "  data.base is not None and isinstance(data, np.ndarray) \\\n"
     ]
    },
    {
     "data": {
      "text/plain": [
       "'data:image/png;base64,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'"
      ]
     },
     "execution_count": 58,
     "metadata": {},
     "output_type": "execute_result"
    }
   ],
   "source": [
    "get_feature_importances(best_model, df.drop('target', axis=1), df['target'])"
   ]
  },
  {
   "cell_type": "code",
   "execution_count": 29,
   "metadata": {
    "collapsed": false
   },
   "outputs": [
    {
     "name": "stderr",
     "output_type": "stream",
     "text": [
      "//anaconda/lib/python3.5/site-packages/xgboost/core.py:587: FutureWarning: Series.base is deprecated and will be removed in a future version\n",
      "  if getattr(data, 'base', None) is not None and \\\n",
      "//anaconda/lib/python3.5/site-packages/xgboost/core.py:588: FutureWarning: Series.base is deprecated and will be removed in a future version\n",
      "  data.base is not None and isinstance(data, np.ndarray) \\\n"
     ]
    },
    {
     "data": {
      "image/png": "[encoded data removed]",
      "text/plain": [
       "<matplotlib.figure.Figure at 0x10909b198>"
      ]
     },
     "metadata": {},
     "output_type": "display_data"
    },
    {
     "data": {
      "text/plain": [
       "matplotlib.axes._subplots.AxesSubplot"
      ]
     },
     "execution_count": 29,
     "metadata": {},
     "output_type": "execute_result"
    }
   ],
   "source": [
    "plt.figure()\n",
    "viz = FeatureImportances(best_model, is_fitted=False)\n",
    "viz.fit(df.drop('target', axis=1), df['target'])\n",
    "viz.show()"
   ]
  },
  {
   "cell_type": "code",
   "execution_count": 37,
   "metadata": {
    "collapsed": false
   },
   "outputs": [],
   "source": [
    "feats = list(auto_ml_model.X.columns)"
   ]
  },
  {
   "cell_type": "code",
   "execution_count": 45,
   "metadata": {
    "collapsed": false
   },
   "outputs": [],
   "source": [
    "importances = best_model.feature_importances_"
   ]
  },
  {
   "cell_type": "code",
   "execution_count": 46,
   "metadata": {
    "collapsed": false
   },
   "outputs": [],
   "source": [
    "feat_importances = dict(zip(feats, importances))"
   ]
  },
  {
   "cell_type": "code",
   "execution_count": 47,
   "metadata": {
    "collapsed": true
   },
   "outputs": [],
   "source": [
    "import operator\n",
    "from collections import OrderedDict\n",
    "\n",
    "feat_importances = OrderedDict(sorted(feat_importances.items(), key=operator.itemgetter(1)))"
   ]
  },
  {
   "cell_type": "code",
   "execution_count": 48,
   "metadata": {
    "collapsed": false
   },
   "outputs": [
    {
     "data": {
      "text/plain": [
       "OrderedDict([('ZN', 0.024102837),\n",
       "             ('INDUS', 0.024744349),\n",
       "             ('B', 0.03150197),\n",
       "             ('AGE', 0.03225288),\n",
       "             ('TAX', 0.036526404),\n",
       "             ('CRIM', 0.036655966),\n",
       "             ('RAD', 0.03983713),\n",
       "             ('NOX', 0.06467627),\n",
       "             ('PTRATIO', 0.08214866),\n",
       "             ('DIS', 0.08273311),\n",
       "             ('CHAS', 0.09334107),\n",
       "             ('RM', 0.14042541),\n",
       "             ('LSTAT', 0.31105387)])"
      ]
     },
     "execution_count": 48,
     "metadata": {},
     "output_type": "execute_result"
    }
   ],
   "source": [
    "feat_importances"
   ]
  },
  {
   "cell_type": "code",
   "execution_count": 54,
   "metadata": {
    "collapsed": false
   },
   "outputs": [
    {
     "data": {
      "text/plain": [
       "<Container object of 13 artists>"
      ]
     },
     "execution_count": 54,
     "metadata": {},
     "output_type": "execute_result"
    },
    {
     "data": {
      "image/png": "[encoded data removed]",
      "text/plain": [
       "<matplotlib.figure.Figure at 0x1c2e4dfb70>"
      ]
     },
     "metadata": {},
     "output_type": "display_data"
    }
   ],
   "source": [
    "plt.xticks(range(len(feat_importances)), list(feat_importances.keys()))\n",
    "plt.bar(range(len(feat_importances)), list(feat_importances.values()), align='center')"
   ]
  }
 ],
 "metadata": {
  "anaconda-cloud": {},
  "kernelspec": {
   "display_name": "Python [conda root]",
   "language": "python",
   "name": "conda-root-py"
  },
  "language_info": {
   "codemirror_mode": {
    "name": "ipython",
    "version": 3
   },
   "file_extension": ".py",
   "mimetype": "text/x-python",
   "name": "python",
   "nbconvert_exporter": "python",
   "pygments_lexer": "ipython3",
   "version": "3.5.6"
  },
  "widgets": {
   "state": {
    "77495c1de5a540eebfdbd551ccc09a19": {
     "views": [
      {
       "cell_index": 10
      }
     ]
    }
   },
   "version": "1.2.0"
  }
 },
 "nbformat": 4,
 "nbformat_minor": 2
}
