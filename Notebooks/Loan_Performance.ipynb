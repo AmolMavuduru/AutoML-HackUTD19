{
 "cells": [
  {
   "cell_type": "code",
   "execution_count": 7,
   "metadata": {
    "collapsed": true
   },
   "outputs": [],
   "source": [
    "## This script will walk through a basic analysis of the Acquisition and Performance data for the Data Science\n",
    "## Challenge (Nov 9th and 10th 2019)\n",
    "##\n",
    "## Here you will find the tools necessary to open, read, and process the data as well as give you some \n",
    "## idea of the types of differing risk factors over the years. The key focus of your your analysis\n",
    "## should be built around the \"Zero_Bal_Cd\" attribute. Look further into the script for more details\n",
    "## on the different values this field can take on.\n",
    "##\n",
    "## In order to run this script you need to download data from this link: (you will have to create an account\n",
    "## on the site but it's free)\n",
    "##    https://loanperformancedata.fanniemae.com/lppub/index.html#Portfolio\n",
    "##\n",
    "## Additional details about these datasets (attribute names, allowable values, definitions, etc:\n",
    "## is available from here:\n",
    "##    https://www.fanniemae.com/portal/funding-the-market/data/loan-performance-data.html\n",
    "##\n",
    "## Download the data the 3rd Quarter for the years 2004, 2008, 2012, and 2016.\n",
    "##\n",
    "## Unzip the data files into the \"RawData\" directory and then execute this script.\n",
    "##\n",
    "## Make sure you have all the necessary python libraries listed below installed on your system\n",
    "## "
   ]
  },
  {
   "cell_type": "code",
   "execution_count": 8,
   "metadata": {
    "collapsed": false
   },
   "outputs": [],
   "source": [
    "import os\n",
    "import glob\n",
    "import pandas as pd\n",
    "import numpy as np\n",
    "\n",
    "import seaborn as sns\n",
    "import matplotlib.pyplot as plt\n",
    "%matplotlib inline"
   ]
  },
  {
   "cell_type": "code",
   "execution_count": 9,
   "metadata": {
    "collapsed": true
   },
   "outputs": [],
   "source": [
    "## print our current working directory to be sure we're operating in the right place\n",
    "##\n",
    "##os.getcwd()"
   ]
  },
  {
   "cell_type": "code",
   "execution_count": 12,
   "metadata": {
    "collapsed": true
   },
   "outputs": [],
   "source": [
    "## create a list of the acquisition data file names\n",
    "##\n",
    "all_Acq_files = glob.glob(os.path.join(\"RawData/Acquisition*.txt\"))"
   ]
  },
  {
   "cell_type": "code",
   "execution_count": 13,
   "metadata": {
    "collapsed": false
   },
   "outputs": [
    {
     "data": {
      "text/plain": [
       "['RawData/Acquisition_2004Q3.txt',\n",
       " 'RawData/Acquisition_2008Q3.txt',\n",
       " 'RawData/Acquisition_2012Q3.txt',\n",
       " 'RawData/Acquisition_2016Q3.txt']"
      ]
     },
     "execution_count": 13,
     "metadata": {},
     "output_type": "execute_result"
    }
   ],
   "source": [
    "## print out the list to make sure we've got them all\n",
    "##\n",
    "all_Acq_files"
   ]
  },
  {
   "cell_type": "code",
   "execution_count": 14,
   "metadata": {
    "collapsed": false
   },
   "outputs": [],
   "source": [
    "## read the contents of each acquisition file into a data frame\n",
    "##\n",
    "df_from_each_file = (pd.read_csv(f,sep =\"|\", index_col=None, header=None) for f in all_Acq_files)\n",
    "df   = pd.concat(df_from_each_file, ignore_index=True)"
   ]
  },
  {
   "cell_type": "code",
   "execution_count": 15,
   "metadata": {
    "collapsed": true
   },
   "outputs": [],
   "source": [
    "## The files don't have names for each column so add the columns here\n",
    "##\n",
    "df.rename(columns={\n",
    "                    0: 'Loan_ID',\n",
    "                    1: 'Channel',\n",
    "                    2: 'Seller',\n",
    "                    3: 'Interest_Rate',\n",
    "                    4: 'UPB',\n",
    "                    5: 'Loan_Term',\n",
    "                    6: 'Origination_Date',\n",
    "                    7: 'First_Payment_Date',\n",
    "                    8: 'LTV',\n",
    "                    9: 'CLTV',\n",
    "                    10: 'Num_Borrowers',\n",
    "                    11: 'DTI',\n",
    "                    12: 'Borrower_FICO',\n",
    "                    13: 'First_Time_Buyer',\n",
    "                    14: 'Loan_Purpose',\n",
    "                    15: 'Dwelling_Type',\n",
    "                    16: 'Unit_Count',\n",
    "                    17: 'Occupancy',\n",
    "                    18: 'State',\n",
    "                    19: 'Zip',\n",
    "                    20: 'Insurance%',\n",
    "                    21: 'Product',\n",
    "                    22: 'Co_Borrower_FICO',\n",
    "                    23: 'Mortgage_Insurance_Type',\n",
    "                    24: 'Relocation_Indicator'}, inplace=True)"
   ]
  },
  {
   "cell_type": "code",
   "execution_count": 16,
   "metadata": {
    "collapsed": true
   },
   "outputs": [],
   "source": [
    "## Now grab a listing of all the performance files in the RawData directory\n",
    "##\n",
    "all_perf_files = glob.glob(os.path.join( \"RawData/Performance_*.txt\"))"
   ]
  },
  {
   "cell_type": "code",
   "execution_count": 17,
   "metadata": {
    "collapsed": false
   },
   "outputs": [
    {
     "data": {
      "text/plain": [
       "['RawData/Performance_2004Q3.txt',\n",
       " 'RawData/Performance_2008Q3.txt',\n",
       " 'RawData/Performance_2012Q3.txt',\n",
       " 'RawData/Performance_2016Q3.txt']"
      ]
     },
     "execution_count": 17,
     "metadata": {},
     "output_type": "execute_result"
    }
   ],
   "source": [
    "## display a listong of the performance files to make sure the year/quarter aligns\n",
    "## with the acquisition files\n",
    "##\n",
    "all_perf_files"
   ]
  },
  {
   "cell_type": "code",
   "execution_count": 18,
   "metadata": {
    "collapsed": true
   },
   "outputs": [],
   "source": [
    "## read in the data from each of the performance files and concatenate the\n",
    "## data together into a single dataframe names \"perf_df\" and while we're reading the data in only include\n",
    "## the columns we actually want for this analysis.\n",
    "##\n",
    "df_from_each_file = (pd.read_csv(f,sep =\"|\", index_col=None, header=None\n",
    "                                 ,usecols=[0,1,3,4,5,11,12]\n",
    "                                 , names = ['Loan_ID', 'Period', 'Current_IR','Current_UPB', 'Age',\n",
    "                                            'Mod_Ind','Zero_Bal_Cd']\n",
    "                                 ,dtype = { 'Loan_ID' : np.int64, 'Current_IR' : np.float64, \n",
    "                                           'Current_UPB': np.float64}\n",
    "                                ) for f in all_perf_files)\n",
    "perf_df   = pd.concat(df_from_each_file, ignore_index=True)"
   ]
  },
  {
   "cell_type": "code",
   "execution_count": 19,
   "metadata": {
    "collapsed": true
   },
   "outputs": [],
   "source": [
    "## Modify the date field (\"Period\") to be a number for easier manipulation\n",
    "## later on in the script\n",
    "## \n",
    "perf_df['Period']=perf_df['Period'].apply(str).str[6:].apply(int)*100+perf_df['Period'].apply(str).str[:2].apply(int)\n",
    "\n",
    "## Select the latest period in the data frame as we're concerned with the most recent loan status\n",
    "##\n",
    "idx = perf_df.groupby(['Loan_ID'])['Period'].transform(max) == perf_df['Period']\n",
    "\n",
    "## Create a new data frame with just the latest period record\n",
    "## \n",
    "perf_df_new = perf_df[idx].copy()\n"
   ]
  },
  {
   "cell_type": "code",
   "execution_count": 20,
   "metadata": {
    "collapsed": false
   },
   "outputs": [
    {
     "data": {
      "text/html": [
       "<div>\n",
       "<style scoped>\n",
       "    .dataframe tbody tr th:only-of-type {\n",
       "        vertical-align: middle;\n",
       "    }\n",
       "\n",
       "    .dataframe tbody tr th {\n",
       "        vertical-align: top;\n",
       "    }\n",
       "\n",
       "    .dataframe thead th {\n",
       "        text-align: right;\n",
       "    }\n",
       "</style>\n",
       "<table border=\"1\" class=\"dataframe\">\n",
       "  <thead>\n",
       "    <tr style=\"text-align: right;\">\n",
       "      <th></th>\n",
       "      <th>Loan_ID</th>\n",
       "      <th>Period</th>\n",
       "      <th>Current_IR</th>\n",
       "      <th>Current_UPB</th>\n",
       "      <th>Age</th>\n",
       "      <th>Mod_Ind</th>\n",
       "      <th>Zero_Bal_Cd</th>\n",
       "    </tr>\n",
       "  </thead>\n",
       "  <tbody>\n",
       "    <tr>\n",
       "      <th>110</th>\n",
       "      <td>100001458647</td>\n",
       "      <td>201309</td>\n",
       "      <td>5.625</td>\n",
       "      <td>251567.64</td>\n",
       "      <td>111</td>\n",
       "      <td>N</td>\n",
       "      <td>Prepaid</td>\n",
       "    </tr>\n",
       "    <tr>\n",
       "      <th>205</th>\n",
       "      <td>100004788186</td>\n",
       "      <td>201207</td>\n",
       "      <td>5.750</td>\n",
       "      <td>12621.76</td>\n",
       "      <td>94</td>\n",
       "      <td>N</td>\n",
       "      <td>Prepaid</td>\n",
       "    </tr>\n",
       "    <tr>\n",
       "      <th>338</th>\n",
       "      <td>100008528816</td>\n",
       "      <td>201508</td>\n",
       "      <td>5.000</td>\n",
       "      <td>40214.78</td>\n",
       "      <td>131</td>\n",
       "      <td>N</td>\n",
       "      <td>REO</td>\n",
       "    </tr>\n",
       "    <tr>\n",
       "      <th>453</th>\n",
       "      <td>100014656651</td>\n",
       "      <td>201402</td>\n",
       "      <td>6.300</td>\n",
       "      <td>37473.50</td>\n",
       "      <td>114</td>\n",
       "      <td>N</td>\n",
       "      <td>Prepaid</td>\n",
       "    </tr>\n",
       "    <tr>\n",
       "      <th>528</th>\n",
       "      <td>100021529837</td>\n",
       "      <td>201010</td>\n",
       "      <td>5.875</td>\n",
       "      <td>119759.31</td>\n",
       "      <td>74</td>\n",
       "      <td>N</td>\n",
       "      <td>Prepaid</td>\n",
       "    </tr>\n",
       "  </tbody>\n",
       "</table>\n",
       "</div>"
      ],
      "text/plain": [
       "          Loan_ID  Period  Current_IR  Current_UPB  Age Mod_Ind Zero_Bal_Cd\n",
       "110  100001458647  201309       5.625    251567.64  111       N     Prepaid\n",
       "205  100004788186  201207       5.750     12621.76   94       N     Prepaid\n",
       "338  100008528816  201508       5.000     40214.78  131       N         REO\n",
       "453  100014656651  201402       6.300     37473.50  114       N     Prepaid\n",
       "528  100021529837  201010       5.875    119759.31   74       N     Prepaid"
      ]
     },
     "execution_count": 20,
     "metadata": {},
     "output_type": "execute_result"
    }
   ],
   "source": [
    "## In looking at the FAQ dor the datasets we know that if the zero balance code is null then the loan is current\n",
    "## meaning it's paid up correctly. It's not late, or paid off early, or in default so we don't really care\n",
    "## about those records as regards our analysis.\n",
    "##\n",
    "perf_df_new.Zero_Bal_Cd.fillna(0,inplace=True)\n",
    "\n",
    "## Also, some of the loans are missing the UPB (unpaid balance). We can't use that data in building our model\n",
    "## so we'll just drop those loans from the dataframe\n",
    "##\n",
    "perf_df_new.dropna(inplace=True)\n",
    "\n",
    "## create a mapping of the available zero_balance_code numbers and their meanings\n",
    "##\n",
    "zero_bal_cd_map = {0:'Current',1:'Prepaid',2:'Third Party Sale',3:'Short Sale',\n",
    "                   6:'Repurchase',9:'REO',15:'Note Sale',16:'RPL Loan Sale'}\n",
    "perf_df_new['Zero_Bal_Cd'] = perf_df_new['Zero_Bal_Cd'].map(zero_bal_cd_map).apply(str)\n",
    "\n",
    "## display a listing of the updated performance data \n",
    "##\n",
    "perf_df_new.head()\n"
   ]
  },
  {
   "cell_type": "code",
   "execution_count": 21,
   "metadata": {
    "collapsed": false,
    "scrolled": true
   },
   "outputs": [
    {
     "data": {
      "text/html": [
       "<div>\n",
       "<style scoped>\n",
       "    .dataframe tbody tr th:only-of-type {\n",
       "        vertical-align: middle;\n",
       "    }\n",
       "\n",
       "    .dataframe tbody tr th {\n",
       "        vertical-align: top;\n",
       "    }\n",
       "\n",
       "    .dataframe thead th {\n",
       "        text-align: right;\n",
       "    }\n",
       "</style>\n",
       "<table border=\"1\" class=\"dataframe\">\n",
       "  <thead>\n",
       "    <tr style=\"text-align: right;\">\n",
       "      <th></th>\n",
       "      <th>Loan_ID</th>\n",
       "      <th>Channel</th>\n",
       "      <th>Seller</th>\n",
       "      <th>Interest_Rate</th>\n",
       "      <th>UPB</th>\n",
       "      <th>Loan_Term</th>\n",
       "      <th>Origination_Date</th>\n",
       "      <th>First_Payment_Date</th>\n",
       "      <th>LTV</th>\n",
       "      <th>CLTV</th>\n",
       "      <th>...</th>\n",
       "      <th>Product</th>\n",
       "      <th>Co_Borrower_FICO</th>\n",
       "      <th>Mortgage_Insurance_Type</th>\n",
       "      <th>Relocation_Indicator</th>\n",
       "      <th>Period</th>\n",
       "      <th>Current_IR</th>\n",
       "      <th>Current_UPB</th>\n",
       "      <th>Age</th>\n",
       "      <th>Mod_Ind</th>\n",
       "      <th>Zero_Bal_Cd</th>\n",
       "    </tr>\n",
       "  </thead>\n",
       "  <tbody>\n",
       "    <tr>\n",
       "      <th>0</th>\n",
       "      <td>100001458647</td>\n",
       "      <td>R</td>\n",
       "      <td>CITIMORTGAGE, INC.</td>\n",
       "      <td>5.625</td>\n",
       "      <td>297000</td>\n",
       "      <td>360</td>\n",
       "      <td>05/2004</td>\n",
       "      <td>07/2004</td>\n",
       "      <td>49</td>\n",
       "      <td>61.0</td>\n",
       "      <td>...</td>\n",
       "      <td>FRM</td>\n",
       "      <td>NaN</td>\n",
       "      <td>NaN</td>\n",
       "      <td>N</td>\n",
       "      <td>201309</td>\n",
       "      <td>5.625</td>\n",
       "      <td>251567.64</td>\n",
       "      <td>111</td>\n",
       "      <td>N</td>\n",
       "      <td>Prepaid</td>\n",
       "    </tr>\n",
       "    <tr>\n",
       "      <th>1</th>\n",
       "      <td>100004788186</td>\n",
       "      <td>C</td>\n",
       "      <td>BANK OF AMERICA, N.A.</td>\n",
       "      <td>5.750</td>\n",
       "      <td>50000</td>\n",
       "      <td>180</td>\n",
       "      <td>08/2004</td>\n",
       "      <td>10/2004</td>\n",
       "      <td>25</td>\n",
       "      <td>25.0</td>\n",
       "      <td>...</td>\n",
       "      <td>FRM</td>\n",
       "      <td>753.0</td>\n",
       "      <td>NaN</td>\n",
       "      <td>N</td>\n",
       "      <td>201207</td>\n",
       "      <td>5.750</td>\n",
       "      <td>12621.76</td>\n",
       "      <td>94</td>\n",
       "      <td>N</td>\n",
       "      <td>Prepaid</td>\n",
       "    </tr>\n",
       "    <tr>\n",
       "      <th>2</th>\n",
       "      <td>100008528816</td>\n",
       "      <td>R</td>\n",
       "      <td>OTHER</td>\n",
       "      <td>5.000</td>\n",
       "      <td>80000</td>\n",
       "      <td>180</td>\n",
       "      <td>08/2004</td>\n",
       "      <td>10/2004</td>\n",
       "      <td>75</td>\n",
       "      <td>75.0</td>\n",
       "      <td>...</td>\n",
       "      <td>FRM</td>\n",
       "      <td>678.0</td>\n",
       "      <td>NaN</td>\n",
       "      <td>N</td>\n",
       "      <td>201508</td>\n",
       "      <td>5.000</td>\n",
       "      <td>40214.78</td>\n",
       "      <td>131</td>\n",
       "      <td>N</td>\n",
       "      <td>REO</td>\n",
       "    </tr>\n",
       "    <tr>\n",
       "      <th>3</th>\n",
       "      <td>100014656651</td>\n",
       "      <td>C</td>\n",
       "      <td>BANK OF AMERICA, N.A.</td>\n",
       "      <td>6.300</td>\n",
       "      <td>55000</td>\n",
       "      <td>240</td>\n",
       "      <td>07/2004</td>\n",
       "      <td>09/2004</td>\n",
       "      <td>80</td>\n",
       "      <td>80.0</td>\n",
       "      <td>...</td>\n",
       "      <td>FRM</td>\n",
       "      <td>NaN</td>\n",
       "      <td>NaN</td>\n",
       "      <td>N</td>\n",
       "      <td>201402</td>\n",
       "      <td>6.300</td>\n",
       "      <td>37473.50</td>\n",
       "      <td>114</td>\n",
       "      <td>N</td>\n",
       "      <td>Prepaid</td>\n",
       "    </tr>\n",
       "    <tr>\n",
       "      <th>4</th>\n",
       "      <td>100021529837</td>\n",
       "      <td>C</td>\n",
       "      <td>BANK OF AMERICA, N.A.</td>\n",
       "      <td>5.875</td>\n",
       "      <td>140000</td>\n",
       "      <td>360</td>\n",
       "      <td>07/2004</td>\n",
       "      <td>09/2004</td>\n",
       "      <td>80</td>\n",
       "      <td>80.0</td>\n",
       "      <td>...</td>\n",
       "      <td>FRM</td>\n",
       "      <td>794.0</td>\n",
       "      <td>NaN</td>\n",
       "      <td>N</td>\n",
       "      <td>201010</td>\n",
       "      <td>5.875</td>\n",
       "      <td>119759.31</td>\n",
       "      <td>74</td>\n",
       "      <td>N</td>\n",
       "      <td>Prepaid</td>\n",
       "    </tr>\n",
       "  </tbody>\n",
       "</table>\n",
       "<p>5 rows × 31 columns</p>\n",
       "</div>"
      ],
      "text/plain": [
       "        Loan_ID Channel                 Seller  Interest_Rate     UPB  \\\n",
       "0  100001458647       R     CITIMORTGAGE, INC.          5.625  297000   \n",
       "1  100004788186       C  BANK OF AMERICA, N.A.          5.750   50000   \n",
       "2  100008528816       R                  OTHER          5.000   80000   \n",
       "3  100014656651       C  BANK OF AMERICA, N.A.          6.300   55000   \n",
       "4  100021529837       C  BANK OF AMERICA, N.A.          5.875  140000   \n",
       "\n",
       "   Loan_Term Origination_Date First_Payment_Date  LTV  CLTV     ...       \\\n",
       "0        360          05/2004            07/2004   49  61.0     ...        \n",
       "1        180          08/2004            10/2004   25  25.0     ...        \n",
       "2        180          08/2004            10/2004   75  75.0     ...        \n",
       "3        240          07/2004            09/2004   80  80.0     ...        \n",
       "4        360          07/2004            09/2004   80  80.0     ...        \n",
       "\n",
       "   Product  Co_Borrower_FICO  Mortgage_Insurance_Type Relocation_Indicator  \\\n",
       "0      FRM               NaN                      NaN                    N   \n",
       "1      FRM             753.0                      NaN                    N   \n",
       "2      FRM             678.0                      NaN                    N   \n",
       "3      FRM               NaN                      NaN                    N   \n",
       "4      FRM             794.0                      NaN                    N   \n",
       "\n",
       "   Period Current_IR  Current_UPB  Age Mod_Ind  Zero_Bal_Cd  \n",
       "0  201309      5.625    251567.64  111       N      Prepaid  \n",
       "1  201207      5.750     12621.76   94       N      Prepaid  \n",
       "2  201508      5.000     40214.78  131       N          REO  \n",
       "3  201402      6.300     37473.50  114       N      Prepaid  \n",
       "4  201010      5.875    119759.31   74       N      Prepaid  \n",
       "\n",
       "[5 rows x 31 columns]"
      ]
     },
     "execution_count": 21,
     "metadata": {},
     "output_type": "execute_result"
    }
   ],
   "source": [
    "## Now that we've cleaned up the acquisition and performance data, merge them into a single integrated\n",
    "## data frame that we'll call \"loan_df\"\n",
    "##\n",
    "loan_df = pd.merge(df,perf_df_new,how='inner',on='Loan_ID')\n",
    "\n",
    "## display the first several rows from the combined dataset\n",
    "##\n",
    "loan_df.head()"
   ]
  },
  {
   "cell_type": "code",
   "execution_count": 22,
   "metadata": {
    "collapsed": false
   },
   "outputs": [
    {
     "data": {
      "text/plain": [
       "Loan_ID                          0\n",
       "Channel                          0\n",
       "Seller                           0\n",
       "Interest_Rate                    0\n",
       "UPB                              0\n",
       "Loan_Term                        0\n",
       "Origination_Date                 0\n",
       "First_Payment_Date               0\n",
       "LTV                              0\n",
       "CLTV                             4\n",
       "Num_Borrowers                   65\n",
       "DTI                          40037\n",
       "Borrower_FICO                 3450\n",
       "First_Time_Buyer                 0\n",
       "Loan_Purpose                     0\n",
       "Dwelling_Type                    0\n",
       "Unit_Count                       0\n",
       "Occupancy                        0\n",
       "State                            0\n",
       "Zip                              0\n",
       "Insurance%                 1678310\n",
       "Product                          0\n",
       "Co_Borrower_FICO           1017720\n",
       "Mortgage_Insurance_Type    1678310\n",
       "Relocation_Indicator             0\n",
       "Period                           0\n",
       "Current_IR                       0\n",
       "Current_UPB                      0\n",
       "Age                              0\n",
       "Mod_Ind                          0\n",
       "Zero_Bal_Cd                      0\n",
       "dtype: int64"
      ]
     },
     "execution_count": 22,
     "metadata": {},
     "output_type": "execute_result"
    }
   ],
   "source": [
    "loan_df.isnull().sum()"
   ]
  },
  {
   "cell_type": "code",
   "execution_count": 23,
   "metadata": {
    "collapsed": true
   },
   "outputs": [],
   "source": [
    "## Assign Defaults for the missing values in the loans dataframe\n",
    "##\n",
    "loan_df.Mortgage_Insurance_Type.fillna(0,inplace=True)\n",
    "loan_df['Insurance%'].fillna(0,inplace=True)\n",
    "loan_df.Num_Borrowers.fillna(1,inplace=True)\n",
    "loan_df.CLTV.fillna(loan_df.LTV,inplace=True)\n",
    "loan_df.drop('Co_Borrower_FICO',axis=1,inplace=True)"
   ]
  },
  {
   "cell_type": "code",
   "execution_count": 24,
   "metadata": {
    "collapsed": false
   },
   "outputs": [
    {
     "data": {
      "text/plain": [
       "Loan_ID                        0\n",
       "Channel                        0\n",
       "Seller                         0\n",
       "Interest_Rate                  0\n",
       "UPB                            0\n",
       "Loan_Term                      0\n",
       "Origination_Date               0\n",
       "First_Payment_Date             0\n",
       "LTV                            0\n",
       "CLTV                           0\n",
       "Num_Borrowers                  0\n",
       "DTI                        40037\n",
       "Borrower_FICO               3450\n",
       "First_Time_Buyer               0\n",
       "Loan_Purpose                   0\n",
       "Dwelling_Type                  0\n",
       "Unit_Count                     0\n",
       "Occupancy                      0\n",
       "State                          0\n",
       "Zip                            0\n",
       "Insurance%                     0\n",
       "Product                        0\n",
       "Mortgage_Insurance_Type        0\n",
       "Relocation_Indicator           0\n",
       "Period                         0\n",
       "Current_IR                     0\n",
       "Current_UPB                    0\n",
       "Age                            0\n",
       "Mod_Ind                        0\n",
       "Zero_Bal_Cd                    0\n",
       "dtype: int64"
      ]
     },
     "execution_count": 24,
     "metadata": {},
     "output_type": "execute_result"
    }
   ],
   "source": [
    "loan_df.isnull().sum()"
   ]
  },
  {
   "cell_type": "code",
   "execution_count": 25,
   "metadata": {
    "collapsed": true
   },
   "outputs": [],
   "source": [
    "## Drop any records that still have null values - we don't want to include them in the model / analysis\n",
    "##\n",
    "loan_df.dropna(inplace=True)"
   ]
  },
  {
   "cell_type": "code",
   "execution_count": 26,
   "metadata": {
    "collapsed": true
   },
   "outputs": [],
   "source": [
    "## We'll do some analysis against the FICO (credit score) of the borrower\n",
    "## Create several bins based on the FICO score range and add the calculated FICO bin score\n",
    "## to each record in the dataframe\n",
    "##\n",
    "FICO_bins = [0,620,660,700,740,780,850]\n",
    "FICO_labels = ['0-620', '620-660','660-700','700-740','740-780','780+']\n",
    "loan_df['FICO_bins'] = pd.cut(loan_df['Borrower_FICO'],bins=FICO_bins,labels=FICO_labels)\n",
    "\n",
    "Term_bins =[0,180,360]\n",
    "Term_labels =['<=15 Years','<= 30 Years']\n",
    "loan_df['Term_bins'] = pd.cut(loan_df['Loan_Term'],bins=Term_bins,labels=Term_labels)\n",
    "\n",
    "zero_bal_cd_map = {'Current':'Current','Prepaid':'Prepaid','Third Party Sale':'Underperforming','Short Sale':'Underperforming',\n",
    "                   'Repurchase':'Underperforming','REO':'Underperforming','Note Sale':'Underperforming','RPL Loan Sale':'Underperforming'}\n",
    "loan_df['Current_Status'] = loan_df['Zero_Bal_Cd'].map(zero_bal_cd_map).apply(str)\n",
    "\n",
    "loan_df['Origin_Month'],loan_df['Origin_Year'] = loan_df['First_Payment_Date'].str.split('/', 1).str\n",
    "\n",
    "df = loan_df[loan_df['Origin_Year'].isin(['2003','2008','2012','2016'])]"
   ]
  },
  {
   "cell_type": "code",
   "execution_count": 27,
   "metadata": {
    "collapsed": false
   },
   "outputs": [
    {
     "data": {
      "text/html": [
       "<div>\n",
       "<style scoped>\n",
       "    .dataframe tbody tr th:only-of-type {\n",
       "        vertical-align: middle;\n",
       "    }\n",
       "\n",
       "    .dataframe tbody tr th {\n",
       "        vertical-align: top;\n",
       "    }\n",
       "\n",
       "    .dataframe thead th {\n",
       "        text-align: right;\n",
       "    }\n",
       "</style>\n",
       "<table border=\"1\" class=\"dataframe\">\n",
       "  <thead>\n",
       "    <tr style=\"text-align: right;\">\n",
       "      <th></th>\n",
       "      <th></th>\n",
       "      <th>Loan_ID</th>\n",
       "    </tr>\n",
       "    <tr>\n",
       "      <th>Origin_Year</th>\n",
       "      <th>Current_Status</th>\n",
       "      <th></th>\n",
       "    </tr>\n",
       "  </thead>\n",
       "  <tbody>\n",
       "    <tr>\n",
       "      <th rowspan=\"3\" valign=\"top\">2003</th>\n",
       "      <th>Current</th>\n",
       "      <td>265</td>\n",
       "    </tr>\n",
       "    <tr>\n",
       "      <th>Prepaid</th>\n",
       "      <td>3759</td>\n",
       "    </tr>\n",
       "    <tr>\n",
       "      <th>Underperforming</th>\n",
       "      <td>52</td>\n",
       "    </tr>\n",
       "    <tr>\n",
       "      <th rowspan=\"3\" valign=\"top\">2008</th>\n",
       "      <th>Current</th>\n",
       "      <td>24646</td>\n",
       "    </tr>\n",
       "    <tr>\n",
       "      <th>Prepaid</th>\n",
       "      <td>296382</td>\n",
       "    </tr>\n",
       "    <tr>\n",
       "      <th>Underperforming</th>\n",
       "      <td>19573</td>\n",
       "    </tr>\n",
       "    <tr>\n",
       "      <th rowspan=\"3\" valign=\"top\">2012</th>\n",
       "      <th>Current</th>\n",
       "      <td>383238</td>\n",
       "    </tr>\n",
       "    <tr>\n",
       "      <th>Prepaid</th>\n",
       "      <td>330469</td>\n",
       "    </tr>\n",
       "    <tr>\n",
       "      <th>Underperforming</th>\n",
       "      <td>1007</td>\n",
       "    </tr>\n",
       "    <tr>\n",
       "      <th rowspan=\"3\" valign=\"top\">2016</th>\n",
       "      <th>Current</th>\n",
       "      <td>514154</td>\n",
       "    </tr>\n",
       "    <tr>\n",
       "      <th>Prepaid</th>\n",
       "      <td>108063</td>\n",
       "    </tr>\n",
       "    <tr>\n",
       "      <th>Underperforming</th>\n",
       "      <td>551</td>\n",
       "    </tr>\n",
       "  </tbody>\n",
       "</table>\n",
       "</div>"
      ],
      "text/plain": [
       "                             Loan_ID\n",
       "Origin_Year Current_Status          \n",
       "2003        Current              265\n",
       "            Prepaid             3759\n",
       "            Underperforming       52\n",
       "2008        Current            24646\n",
       "            Prepaid           296382\n",
       "            Underperforming    19573\n",
       "2012        Current           383238\n",
       "            Prepaid           330469\n",
       "            Underperforming     1007\n",
       "2016        Current           514154\n",
       "            Prepaid           108063\n",
       "            Underperforming      551"
      ]
     },
     "execution_count": 27,
     "metadata": {},
     "output_type": "execute_result"
    }
   ],
   "source": [
    "## Build a table showing the current status and total for each status type by year\n",
    "##\n",
    "df.groupby(['Origin_Year','Current_Status']).agg({'Loan_ID':'count'})"
   ]
  },
  {
   "cell_type": "code",
   "execution_count": 28,
   "metadata": {
    "collapsed": true
   },
   "outputs": [],
   "source": [
    "## Create a new dataframe that holds the first 100,000 records\n",
    "##\n",
    "df2 = df.groupby('Origin_Year').head(100000)"
   ]
  },
  {
   "cell_type": "code",
   "execution_count": 29,
   "metadata": {
    "collapsed": false
   },
   "outputs": [
    {
     "data": {
      "text/html": [
       "<div>\n",
       "<style scoped>\n",
       "    .dataframe tbody tr th:only-of-type {\n",
       "        vertical-align: middle;\n",
       "    }\n",
       "\n",
       "    .dataframe tbody tr th {\n",
       "        vertical-align: top;\n",
       "    }\n",
       "\n",
       "    .dataframe thead th {\n",
       "        text-align: right;\n",
       "    }\n",
       "</style>\n",
       "<table border=\"1\" class=\"dataframe\">\n",
       "  <thead>\n",
       "    <tr style=\"text-align: right;\">\n",
       "      <th></th>\n",
       "      <th></th>\n",
       "      <th>Loan_ID</th>\n",
       "    </tr>\n",
       "    <tr>\n",
       "      <th>Origin_Year</th>\n",
       "      <th>Current_Status</th>\n",
       "      <th></th>\n",
       "    </tr>\n",
       "  </thead>\n",
       "  <tbody>\n",
       "    <tr>\n",
       "      <th rowspan=\"3\" valign=\"top\">2003</th>\n",
       "      <th>Current</th>\n",
       "      <td>265</td>\n",
       "    </tr>\n",
       "    <tr>\n",
       "      <th>Prepaid</th>\n",
       "      <td>3759</td>\n",
       "    </tr>\n",
       "    <tr>\n",
       "      <th>Underperforming</th>\n",
       "      <td>52</td>\n",
       "    </tr>\n",
       "    <tr>\n",
       "      <th rowspan=\"3\" valign=\"top\">2008</th>\n",
       "      <th>Current</th>\n",
       "      <td>7212</td>\n",
       "    </tr>\n",
       "    <tr>\n",
       "      <th>Prepaid</th>\n",
       "      <td>87017</td>\n",
       "    </tr>\n",
       "    <tr>\n",
       "      <th>Underperforming</th>\n",
       "      <td>5771</td>\n",
       "    </tr>\n",
       "    <tr>\n",
       "      <th rowspan=\"3\" valign=\"top\">2012</th>\n",
       "      <th>Current</th>\n",
       "      <td>53775</td>\n",
       "    </tr>\n",
       "    <tr>\n",
       "      <th>Prepaid</th>\n",
       "      <td>46070</td>\n",
       "    </tr>\n",
       "    <tr>\n",
       "      <th>Underperforming</th>\n",
       "      <td>155</td>\n",
       "    </tr>\n",
       "    <tr>\n",
       "      <th rowspan=\"3\" valign=\"top\">2016</th>\n",
       "      <th>Current</th>\n",
       "      <td>82548</td>\n",
       "    </tr>\n",
       "    <tr>\n",
       "      <th>Prepaid</th>\n",
       "      <td>17352</td>\n",
       "    </tr>\n",
       "    <tr>\n",
       "      <th>Underperforming</th>\n",
       "      <td>100</td>\n",
       "    </tr>\n",
       "  </tbody>\n",
       "</table>\n",
       "</div>"
      ],
      "text/plain": [
       "                             Loan_ID\n",
       "Origin_Year Current_Status          \n",
       "2003        Current              265\n",
       "            Prepaid             3759\n",
       "            Underperforming       52\n",
       "2008        Current             7212\n",
       "            Prepaid            87017\n",
       "            Underperforming     5771\n",
       "2012        Current            53775\n",
       "            Prepaid            46070\n",
       "            Underperforming      155\n",
       "2016        Current            82548\n",
       "            Prepaid            17352\n",
       "            Underperforming      100"
      ]
     },
     "execution_count": 29,
     "metadata": {},
     "output_type": "execute_result"
    }
   ],
   "source": [
    "## display another table showing the total number of each status by year\n",
    "##\n",
    "df2.groupby(['Origin_Year','Current_Status']).agg({'Loan_ID':'count'})"
   ]
  },
  {
   "cell_type": "code",
   "execution_count": 30,
   "metadata": {
    "collapsed": false
   },
   "outputs": [
    {
     "name": "stdout",
     "output_type": "stream",
     "text": [
      "<class 'pandas.core.frame.DataFrame'>\n",
      "Int64Index: 304076 entries, 49 to 1558187\n",
      "Data columns (total 35 columns):\n",
      "Loan_ID                    304076 non-null int64\n",
      "Channel                    304076 non-null object\n",
      "Seller                     304076 non-null object\n",
      "Interest_Rate              304076 non-null float64\n",
      "UPB                        304076 non-null int64\n",
      "Loan_Term                  304076 non-null int64\n",
      "Origination_Date           304076 non-null object\n",
      "First_Payment_Date         304076 non-null object\n",
      "LTV                        304076 non-null int64\n",
      "CLTV                       304076 non-null float64\n",
      "Num_Borrowers              304076 non-null float64\n",
      "DTI                        304076 non-null float64\n",
      "Borrower_FICO              304076 non-null float64\n",
      "First_Time_Buyer           304076 non-null object\n",
      "Loan_Purpose               304076 non-null object\n",
      "Dwelling_Type              304076 non-null object\n",
      "Unit_Count                 304076 non-null int64\n",
      "Occupancy                  304076 non-null object\n",
      "State                      304076 non-null object\n",
      "Zip                        304076 non-null int64\n",
      "Insurance%                 304076 non-null float64\n",
      "Product                    304076 non-null object\n",
      "Mortgage_Insurance_Type    304076 non-null float64\n",
      "Relocation_Indicator       304076 non-null object\n",
      "Period                     304076 non-null int64\n",
      "Current_IR                 304076 non-null float64\n",
      "Current_UPB                304076 non-null float64\n",
      "Age                        304076 non-null int64\n",
      "Mod_Ind                    304076 non-null object\n",
      "Zero_Bal_Cd                304076 non-null object\n",
      "FICO_bins                  304076 non-null category\n",
      "Term_bins                  304076 non-null category\n",
      "Current_Status             304076 non-null object\n",
      "Origin_Month               304076 non-null object\n",
      "Origin_Year                304076 non-null object\n",
      "dtypes: category(2), float64(9), int64(8), object(16)\n",
      "memory usage: 79.5+ MB\n"
     ]
    }
   ],
   "source": [
    "## Dump some info about the attributes that make up our dataframe\n",
    "##\n",
    "## Out of this list of attributes, which ones (and with what values) correlate the most with prepaid and defaulted\n",
    "## mortages for each of the 4 years? Is there some attribute that remains significant across all four years?\n",
    "## These are the \"risk factors\" we're interested in having you find in the data and display in some visually\n",
    "## interesting way.\n",
    "##\n",
    "df2.info()"
   ]
  },
  {
   "cell_type": "code",
   "execution_count": 31,
   "metadata": {
    "collapsed": true
   },
   "outputs": [],
   "source": [
    "## Write our current data frame out to a file. This will allow us to pick up and continue our\n",
    "## analysis without going through all the previous work to clean and structure\n",
    "## the data correctly.\n",
    "##\n",
    "df2.to_csv('Processed_loans.csv',index=False)"
   ]
  },
  {
   "cell_type": "code",
   "execution_count": 33,
   "metadata": {
    "collapsed": false
   },
   "outputs": [
    {
     "data": {
      "text/plain": [
       "\"\\nsns.relplot(y='Borrower_FICO', x='Interest_Rate', data=df2\\n            ,hue='Dwelling_Type',\\n            row='Current_Status', col='Origin_Year')\\nplt.show()\\n\""
      ]
     },
     "execution_count": 33,
     "metadata": {},
     "output_type": "execute_result"
    }
   ],
   "source": [
    "## Create and display a plot showing the distribution by year for the Borrower FICO score vs\n",
    "## current, underperforming, and prepaid (paid off early) loans\n",
    "##\n",
    "\"\"\"\n",
    "sns.relplot(y='Borrower_FICO', x='Interest_Rate', data=df2\n",
    "            ,hue='Dwelling_Type',\n",
    "            row='Current_Status', col='Origin_Year')\n",
    "plt.show()\n",
    "\"\"\""
   ]
  },
  {
   "cell_type": "code",
   "execution_count": 34,
   "metadata": {
    "collapsed": true
   },
   "outputs": [],
   "source": [
    "## Rebalance the record set by Dwelling Type into a new data frame (df3). We're doing this because the Single\n",
    "## Family data (individual family homes) is far larger than the other types of homes (multi-family, etc) and we want\n",
    "## a more balanced view of the data. You could go back and do a deeper analysis by home type and look for risk\n",
    "## factors on that basis, or by zip code, number of borrowers, etc...\n",
    "##\n",
    "g = df2.groupby(['Origin_Year','Dwelling_Type'])\n",
    "df3 = g.apply(lambda x: x.sample(g.size().min())).reset_index(drop=True)"
   ]
  },
  {
   "cell_type": "code",
   "execution_count": 35,
   "metadata": {
    "collapsed": false
   },
   "outputs": [
    {
     "data": {
      "text/plain": [
       "'\\n## Redisplay the graph based on the same attributes used above\\n##\\nsns.relplot(y=\\'Borrower_FICO\\', x=\\'Interest_Rate\\', data=df3#.query(\\'Current_Status != \"Prepaid\"\\'), #kind=\\'line\\', \\n            ,hue=\\'Dwelling_Type\\',\\n            row=\\'Current_Status\\', col=\\'Origin_Year\\')\\nplt.show()\\n'"
      ]
     },
     "execution_count": 35,
     "metadata": {},
     "output_type": "execute_result"
    }
   ],
   "source": [
    "\"\"\"\n",
    "## Redisplay the graph based on the same attributes used above\n",
    "##\n",
    "sns.relplot(y='Borrower_FICO', x='Interest_Rate', data=df3#.query('Current_Status != \"Prepaid\"'), #kind='line', \n",
    "            ,hue='Dwelling_Type',\n",
    "            row='Current_Status', col='Origin_Year')\n",
    "plt.show()\n",
    "\"\"\""
   ]
  },
  {
   "cell_type": "code",
   "execution_count": 38,
   "metadata": {
    "collapsed": false
   },
   "outputs": [
    {
     "name": "stdout",
     "output_type": "stream",
     "text": [
      "<class 'pandas.core.frame.DataFrame'>\n",
      "RangeIndex: 380 entries, 0 to 379\n",
      "Data columns (total 35 columns):\n",
      "Loan_ID                    380 non-null int64\n",
      "Channel                    380 non-null object\n",
      "Seller                     380 non-null object\n",
      "Interest_Rate              380 non-null float64\n",
      "UPB                        380 non-null int64\n",
      "Loan_Term                  380 non-null int64\n",
      "Origination_Date           380 non-null object\n",
      "First_Payment_Date         380 non-null object\n",
      "LTV                        380 non-null int64\n",
      "CLTV                       380 non-null float64\n",
      "Num_Borrowers              380 non-null float64\n",
      "DTI                        380 non-null float64\n",
      "Borrower_FICO              380 non-null float64\n",
      "First_Time_Buyer           380 non-null object\n",
      "Loan_Purpose               380 non-null object\n",
      "Dwelling_Type              380 non-null object\n",
      "Unit_Count                 380 non-null int64\n",
      "Occupancy                  380 non-null object\n",
      "State                      380 non-null object\n",
      "Zip                        380 non-null int64\n",
      "Insurance%                 380 non-null float64\n",
      "Product                    380 non-null object\n",
      "Mortgage_Insurance_Type    380 non-null float64\n",
      "Relocation_Indicator       380 non-null object\n",
      "Period                     380 non-null int64\n",
      "Current_IR                 380 non-null float64\n",
      "Current_UPB                380 non-null float64\n",
      "Age                        380 non-null int64\n",
      "Mod_Ind                    380 non-null object\n",
      "Zero_Bal_Cd                380 non-null object\n",
      "FICO_bins                  380 non-null category\n",
      "Term_bins                  380 non-null category\n",
      "Current_Status             380 non-null object\n",
      "Origin_Month               380 non-null object\n",
      "Origin_Year                380 non-null object\n",
      "dtypes: category(2), float64(9), int64(8), object(16)\n",
      "memory usage: 99.1+ KB\n"
     ]
    }
   ],
   "source": [
    "df3.info()"
   ]
  },
  {
   "cell_type": "code",
   "execution_count": 39,
   "metadata": {
    "collapsed": false
   },
   "outputs": [
    {
     "name": "stdout",
     "output_type": "stream",
     "text": [
      "<class 'pandas.core.frame.DataFrame'>\n",
      "Int64Index: 304076 entries, 49 to 1558187\n",
      "Data columns (total 35 columns):\n",
      "Loan_ID                    304076 non-null int64\n",
      "Channel                    304076 non-null object\n",
      "Seller                     304076 non-null object\n",
      "Interest_Rate              304076 non-null float64\n",
      "UPB                        304076 non-null int64\n",
      "Loan_Term                  304076 non-null int64\n",
      "Origination_Date           304076 non-null object\n",
      "First_Payment_Date         304076 non-null object\n",
      "LTV                        304076 non-null int64\n",
      "CLTV                       304076 non-null float64\n",
      "Num_Borrowers              304076 non-null float64\n",
      "DTI                        304076 non-null float64\n",
      "Borrower_FICO              304076 non-null float64\n",
      "First_Time_Buyer           304076 non-null object\n",
      "Loan_Purpose               304076 non-null object\n",
      "Dwelling_Type              304076 non-null object\n",
      "Unit_Count                 304076 non-null int64\n",
      "Occupancy                  304076 non-null object\n",
      "State                      304076 non-null object\n",
      "Zip                        304076 non-null int64\n",
      "Insurance%                 304076 non-null float64\n",
      "Product                    304076 non-null object\n",
      "Mortgage_Insurance_Type    304076 non-null float64\n",
      "Relocation_Indicator       304076 non-null object\n",
      "Period                     304076 non-null int64\n",
      "Current_IR                 304076 non-null float64\n",
      "Current_UPB                304076 non-null float64\n",
      "Age                        304076 non-null int64\n",
      "Mod_Ind                    304076 non-null object\n",
      "Zero_Bal_Cd                304076 non-null object\n",
      "FICO_bins                  304076 non-null category\n",
      "Term_bins                  304076 non-null category\n",
      "Current_Status             304076 non-null object\n",
      "Origin_Month               304076 non-null object\n",
      "Origin_Year                304076 non-null object\n",
      "dtypes: category(2), float64(9), int64(8), object(16)\n",
      "memory usage: 79.5+ MB\n"
     ]
    }
   ],
   "source": [
    "df2.info()"
   ]
  },
  {
   "cell_type": "code",
   "execution_count": 44,
   "metadata": {
    "collapsed": false
   },
   "outputs": [
    {
     "data": {
      "text/plain": [
       "array(['Prepaid', 'Current', 'Underperforming'], dtype=object)"
      ]
     },
     "execution_count": 44,
     "metadata": {},
     "output_type": "execute_result"
    }
   ],
   "source": [
    "df2['Current_Status'].unique()"
   ]
  },
  {
   "cell_type": "code",
   "execution_count": 51,
   "metadata": {
    "collapsed": false
   },
   "outputs": [
    {
     "data": {
      "text/plain": [
       "898"
      ]
     },
     "execution_count": 51,
     "metadata": {},
     "output_type": "execute_result"
    }
   ],
   "source": [
    "df['Zip'].nunique()"
   ]
  },
  {
   "cell_type": "code",
   "execution_count": 45,
   "metadata": {
    "collapsed": true
   },
   "outputs": [],
   "source": [
    "df3.to_csv('Grouped_loans.csv', index=False)"
   ]
  }
 ],
 "metadata": {
  "anaconda-cloud": {},
  "kernelspec": {
   "display_name": "Python [default]",
   "language": "python",
   "name": "python3"
  },
  "language_info": {
   "codemirror_mode": {
    "name": "ipython",
    "version": 3
   },
   "file_extension": ".py",
   "mimetype": "text/x-python",
   "name": "python",
   "nbconvert_exporter": "python",
   "pygments_lexer": "ipython3",
   "version": "3.5.6"
  }
 },
 "nbformat": 4,
 "nbformat_minor": 2
}
