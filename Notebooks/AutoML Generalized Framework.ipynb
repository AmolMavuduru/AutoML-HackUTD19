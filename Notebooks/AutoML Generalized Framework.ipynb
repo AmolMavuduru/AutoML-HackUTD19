{
 "cells": [
  {
   "cell_type": "markdown",
   "metadata": {},
   "source": [
    "# AutoML Generalized Framework"
   ]
  },
  {
   "cell_type": "code",
   "execution_count": 1,
   "metadata": {
    "collapsed": false
   },
   "outputs": [],
   "source": [
    "import numpy as np\n",
    "import pandas as pd\n",
    "from sklearn import *\n",
    "from sklearn.model_selection import train_test_split\n",
    "from sklearn.metrics import *\n",
    "from tpot import TPOTClassifier, TPOTRegressor\n",
    "from datacleaner import autoclean\n",
    "from collections import defaultdict\n",
    "from yellowbrick.model_selection import FeatureImportances"
   ]
  },
  {
   "cell_type": "code",
   "execution_count": 2,
   "metadata": {
    "collapsed": true
   },
   "outputs": [],
   "source": [
    "class AutoMLEstimator(object):\n",
    "    \n",
    "    def __init__(self, **kwargs):\n",
    "        \n",
    "        self.task = kwargs['task']\n",
    "        self.speed = kwargs['speed']\n",
    "        self.test_size = kwargs['test_size']\n",
    "        if self.task == 'classification':\n",
    "            self.tpot_model = TPOTClassifier(generations=self.speed, population_size=self.speed*10, verbosity=2, n_jobs=-1)\n",
    "        else:\n",
    "            self.tpot_model = TPOTRegressor(generations=self.speed, population_size=self.speed*10, verbosity=2, n_jobs=-1)\n",
    "        \n",
    "    def preprocess_data(self, data, target_column):\n",
    "        \n",
    "        clean_data = autoclean(data)\n",
    "        X = clean_data.drop(target_column, axis=1)\n",
    "        y = clean_data[target_column]\n",
    "        \n",
    "        return X, y\n",
    "    \n",
    "    def split_data(self, X, y):\n",
    "        \n",
    "        self.X_train, self.X_test, self.y_train, self.y_test = train_test_split(X, y, test_size=self.test_size) \n",
    "    \n",
    "    def fit_model(self):\n",
    "        \n",
    "        self.tpot_model.fit(self.X_train, self.y_train)\n",
    "        \n",
    "    def run_automl(self, data, target_column):\n",
    "        \n",
    "        self.X, self.y = self.preprocess_data(data, target_column)\n",
    "        self.split_data(self.X, self.y)\n",
    "        self.fit_model()\n",
    "    \n",
    "    def evaluate_model(self):\n",
    "        \n",
    "        metrics = defaultdict()\n",
    "        pred = self.tpot_model.fitted_pipeline_.predict(self.X_test)\n",
    "        \n",
    "        if self.task == 'classification':\n",
    "            \n",
    "            metrics['accuracy'] = accuracy_score(pred, self.y_test)\n",
    "            metrics['precision'] = precision_score(pred, self.y_test)\n",
    "            metrics['recall'] = recall_score(pred, self.y_test)\n",
    "            \n",
    "        else:\n",
    "            \n",
    "            metrics['r2_score'] = r2_score(pred, self.y_test)\n",
    "            metrics['mean_absolute_error'] = mean_absolute_error(pred, self.y_test)\n",
    "            metrics['mean_squared_error'] = mean_squared_error(pred, self.y_test)\n",
    "        \n",
    "        return metrics"
   ]
  },
  {
   "cell_type": "code",
   "execution_count": 3,
   "metadata": {
    "collapsed": true
   },
   "outputs": [],
   "source": [
    "from sklearn.datasets import load_breast_cancer\n",
    "data = load_breast_cancer()"
   ]
  },
  {
   "cell_type": "code",
   "execution_count": 4,
   "metadata": {
    "collapsed": false
   },
   "outputs": [
    {
     "data": {
      "text/plain": [
       "dict_keys(['data', 'filename', 'feature_names', 'target_names', 'DESCR', 'target'])"
      ]
     },
     "execution_count": 4,
     "metadata": {},
     "output_type": "execute_result"
    }
   ],
   "source": [
    "data.keys()"
   ]
  },
  {
   "cell_type": "code",
   "execution_count": 5,
   "metadata": {
    "collapsed": false
   },
   "outputs": [
    {
     "data": {
      "text/plain": [
       "(569, 30)"
      ]
     },
     "execution_count": 5,
     "metadata": {},
     "output_type": "execute_result"
    }
   ],
   "source": [
    "data['data'].shape"
   ]
  },
  {
   "cell_type": "code",
   "execution_count": 6,
   "metadata": {
    "collapsed": false
   },
   "outputs": [
    {
     "data": {
      "text/plain": [
       "(30,)"
      ]
     },
     "execution_count": 6,
     "metadata": {},
     "output_type": "execute_result"
    }
   ],
   "source": [
    "data['feature_names'].shape"
   ]
  },
  {
   "cell_type": "code",
   "execution_count": 7,
   "metadata": {
    "collapsed": false
   },
   "outputs": [
    {
     "data": {
      "text/plain": [
       "(569,)"
      ]
     },
     "execution_count": 7,
     "metadata": {},
     "output_type": "execute_result"
    }
   ],
   "source": [
    "data['target'].shape"
   ]
  },
  {
   "cell_type": "code",
   "execution_count": 8,
   "metadata": {
    "collapsed": false
   },
   "outputs": [
    {
     "data": {
      "text/plain": [
       "array(['malignant', 'benign'], dtype='<U9')"
      ]
     },
     "execution_count": 8,
     "metadata": {},
     "output_type": "execute_result"
    }
   ],
   "source": [
    "data['target_names']"
   ]
  },
  {
   "cell_type": "code",
   "execution_count": 9,
   "metadata": {
    "collapsed": true
   },
   "outputs": [],
   "source": [
    "df = pd.DataFrame(columns=data['feature_names'], data=data['data'])\n",
    "df['target'] = data['target']"
   ]
  },
  {
   "cell_type": "code",
   "execution_count": 10,
   "metadata": {
    "collapsed": false
   },
   "outputs": [
    {
     "name": "stdout",
     "output_type": "stream",
     "text": [
      "Generation 1 - Current best internal CV score: 0.971377607899347\n",
      "Generation 2 - Current best internal CV score: 0.9735509900727293\n",
      "Generation 3 - Current best internal CV score: 0.9758220523437915\n",
      "Generation 4 - Current best internal CV score: 0.9779954345171736\n",
      "\n",
      "\n",
      "TPOT closed during evaluation in one generation.\n",
      "WARNING: TPOT may not provide a good pipeline if TPOT is stopped/interrupted in a early generation.\n",
      "\n",
      "\n",
      "TPOT closed prematurely. Will use the current best pipeline.\n",
      "\n",
      "Best pipeline: ExtraTreesClassifier(GradientBoostingClassifier(input_matrix, learning_rate=0.1, max_depth=2, max_features=0.5, min_samples_leaf=20, min_samples_split=5, n_estimators=100, subsample=0.3), bootstrap=True, criterion=entropy, max_features=0.3, min_samples_leaf=10, min_samples_split=11, n_estimators=100)\n"
     ]
    }
   ],
   "source": [
    "auto_ml_model = AutoMLEstimator(task='classification', speed=3, test_size=0.2)\n",
    "auto_ml_model.run_automl(df, target_column='target')"
   ]
  },
  {
   "cell_type": "code",
   "execution_count": 11,
   "metadata": {
    "collapsed": false
   },
   "outputs": [
    {
     "data": {
      "text/plain": [
       "{'crossover_count': 0,\n",
       " 'generation': 'INVALID',\n",
       " 'internal_cv_score': 0.9493003132133568,\n",
       " 'mutation_count': 1,\n",
       " 'operator_count': 2,\n",
       " 'predecessor': ('GaussianNB(LinearSVC(input_matrix, LinearSVC__C=0.0001, LinearSVC__dual=True, LinearSVC__loss=hinge, LinearSVC__penalty=l2, LinearSVC__tol=0.0001))',)}"
      ]
     },
     "execution_count": 11,
     "metadata": {},
     "output_type": "execute_result"
    }
   ],
   "source": [
    "list(auto_ml_model.tpot_model.evaluated_individuals_.values())[0]"
   ]
  },
  {
   "cell_type": "code",
   "execution_count": 12,
   "metadata": {
    "collapsed": true
   },
   "outputs": [],
   "source": [
    "from sklearn.datasets import load_boston\n",
    "data = load_boston()\n",
    "df = pd.DataFrame(columns=data['feature_names'], data=data['data'])\n",
    "df['target'] = data['target']\n",
    "df.to_csv('boston_housing.csv')"
   ]
  },
  {
   "cell_type": "code",
   "execution_count": 13,
   "metadata": {
    "collapsed": false
   },
   "outputs": [
    {
     "name": "stdout",
     "output_type": "stream",
     "text": [
      "Generation 1 - Current best internal CV score: -11.059314890579422\n",
      "Generation 2 - Current best internal CV score: -11.059314890579422\n",
      "Generation 3 - Current best internal CV score: -11.059314890579422\n",
      "Generation 4 - Current best internal CV score: -10.467802951255536\n",
      "Generation 5 - Current best internal CV score: -10.467802951255536\n",
      "\n",
      "Best pipeline: XGBRegressor(ExtraTreesRegressor(input_matrix, bootstrap=False, max_features=0.8, min_samples_leaf=2, min_samples_split=6, n_estimators=100), learning_rate=0.1, max_depth=4, min_child_weight=1, n_estimators=100, nthread=1, objective=reg:squarederror, subsample=0.25)\n"
     ]
    }
   ],
   "source": [
    "auto_ml_model = AutoMLEstimator(task='regression', speed=3, test_size=0.3)\n",
    "auto_ml_model.run_automl(df, target_column='target')"
   ]
  },
  {
   "cell_type": "code",
   "execution_count": 14,
   "metadata": {
    "collapsed": false
   },
   "outputs": [
    {
     "data": {
      "text/plain": [
       "defaultdict(None,\n",
       "            {'mean_absolute_error': 2.455483083348525,\n",
       "             'mean_squared_error': 12.252844950523748,\n",
       "             'r2_score': 0.8368706920462654})"
      ]
     },
     "execution_count": 14,
     "metadata": {},
     "output_type": "execute_result"
    }
   ],
   "source": [
    "auto_ml_model.evaluate_model()"
   ]
  },
  {
   "cell_type": "code",
   "execution_count": 15,
   "metadata": {
    "collapsed": false
   },
   "outputs": [
    {
     "data": {
      "text/plain": [
       "'XGBRegressor'"
      ]
     },
     "execution_count": 15,
     "metadata": {},
     "output_type": "execute_result"
    }
   ],
   "source": [
    "type(auto_ml_model.tpot_model.fitted_pipeline_[-1]).__name__"
   ]
  },
  {
   "cell_type": "code",
   "execution_count": 18,
   "metadata": {
    "collapsed": false
   },
   "outputs": [
    {
     "data": {
      "text/plain": [
       "array([0.6365785 , 0.03212562, 0.04282403, 0.01748819, 0.00345527,\n",
       "       0.02089561, 0.03441943, 0.01834604, 0.05724856, 0.02714156,\n",
       "       0.02433833, 0.02219093, 0.03140829, 0.03153977], dtype=float32)"
      ]
     },
     "execution_count": 18,
     "metadata": {},
     "output_type": "execute_result"
    }
   ],
   "source": [
    "auto_ml_model.tpot_model.fitted_pipeline_.steps[-1][1].feature_importances_"
   ]
  },
  {
   "cell_type": "code",
   "execution_count": 22,
   "metadata": {
    "collapsed": false
   },
   "outputs": [],
   "source": [
    "best_model = auto_ml_model.tpot_model.fitted_pipeline_.steps[-1][1]"
   ]
  },
  {
   "cell_type": "code",
   "execution_count": 29,
   "metadata": {
    "collapsed": false
   },
   "outputs": [
    {
     "name": "stderr",
     "output_type": "stream",
     "text": [
      "//anaconda/lib/python3.5/site-packages/xgboost/core.py:587: FutureWarning: Series.base is deprecated and will be removed in a future version\n",
      "  if getattr(data, 'base', None) is not None and \\\n",
      "//anaconda/lib/python3.5/site-packages/xgboost/core.py:588: FutureWarning: Series.base is deprecated and will be removed in a future version\n",
      "  data.base is not None and isinstance(data, np.ndarray) \\\n"
     ]
    },
    {
     "data": {
      "image/png": "[encoded data removed]",
      "text/plain": [
       "<matplotlib.figure.Figure at 0x10909b198>"
      ]
     },
     "metadata": {},
     "output_type": "display_data"
    },
    {
     "data": {
      "text/plain": [
       "matplotlib.axes._subplots.AxesSubplot"
      ]
     },
     "execution_count": 29,
     "metadata": {},
     "output_type": "execute_result"
    }
   ],
   "source": [
    "plt.figure()\n",
    "viz = FeatureImportances(best_model, is_fitted=False)\n",
    "viz.fit(df.drop('target', axis=1), df['target'])\n",
    "viz.show()"
   ]
  }
 ],
 "metadata": {
  "anaconda-cloud": {},
  "kernelspec": {
   "display_name": "Python [conda root]",
   "language": "python",
   "name": "conda-root-py"
  },
  "language_info": {
   "codemirror_mode": {
    "name": "ipython",
    "version": 3
   },
   "file_extension": ".py",
   "mimetype": "text/x-python",
   "name": "python",
   "nbconvert_exporter": "python",
   "pygments_lexer": "ipython3",
   "version": "3.5.6"
  },
  "widgets": {
   "state": {
    "77495c1de5a540eebfdbd551ccc09a19": {
     "views": [
      {
       "cell_index": 10
      }
     ]
    }
   },
   "version": "1.2.0"
  }
 },
 "nbformat": 4,
 "nbformat_minor": 2
}
