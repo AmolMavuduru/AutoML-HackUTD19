{
 "cells": [
  {
   "cell_type": "markdown",
   "metadata": {},
   "source": [
    "# AutoML Generalized Framework"
   ]
  },
  {
   "cell_type": "code",
   "execution_count": 1,
   "metadata": {
    "collapsed": true
   },
   "outputs": [],
   "source": [
    "import numpy as np\n",
    "import pandas as pd\n",
    "from sklearn import *\n",
    "from sklearn.model_selection import train_test_split\n",
    "from sklearn.metrics import *\n",
    "from tpot import TPOTClassifier, TPOTRegressor\n",
    "from datacleaner import autoclean\n",
    "from collections import defaultdict"
   ]
  },
  {
   "cell_type": "code",
   "execution_count": 2,
   "metadata": {
    "collapsed": true
   },
   "outputs": [],
   "source": [
    "class AutoMLEstimator(object):\n",
    "    \n",
    "    def __init__(self, **kwargs):\n",
    "        \n",
    "        self.task = kwargs['task']\n",
    "        self.speed = kwargs['speed']\n",
    "        self.test_size = kwargs['test_size']\n",
    "        if self.task == 'classification':\n",
    "            self.tpot_model = TPOTClassifier(generations=self.speed, population_size=self.speed*10, verbosity=2, n_jobs=-1)\n",
    "        else:\n",
    "            self.tpot_model = TPOTRegressor(generations=self.speed, population_size=self.speed*10, verbosity=2, n_jobs=-1)\n",
    "        \n",
    "    def preprocess_data(self, data, target_column):\n",
    "        \n",
    "        clean_data = autoclean(data)\n",
    "        X = clean_data.drop(target_column, axis=1)\n",
    "        y = clean_data[target_column]\n",
    "        \n",
    "        return X, y\n",
    "    \n",
    "    def split_data(self, X, y):\n",
    "        \n",
    "        self.X_train, self.X_test, self.y_train, self.y_test = train_test_split(X, y, test_size=self.test_size) \n",
    "    \n",
    "    def fit_model(self):\n",
    "        \n",
    "        self.tpot_model.fit(self.X_train, self.y_train)\n",
    "        \n",
    "    def run_automl(self, data, target_column):\n",
    "        \n",
    "        self.X, self.y = self.preprocess_data(data, target_column)\n",
    "        self.split_data(self.X, self.y)\n",
    "        self.fit_model()\n",
    "    \n",
    "    def evaluate_model(self):\n",
    "        \n",
    "        metrics = defaultdict()\n",
    "        pred = self.tpot_model.fitted_pipeline_.predict(self.X_test)\n",
    "        \n",
    "        if self.task == 'classification':\n",
    "            \n",
    "            metrics['accuracy'] = accuracy_score(pred, self.y_test)\n",
    "            metrics['precision'] = precision_score(pred, self.y_test)\n",
    "            metrics['recall'] = recall_score(pred, self.y_test)\n",
    "            \n",
    "        else:\n",
    "            \n",
    "            metrics['r2_score'] = r2_score(pred, self.y_test)\n",
    "            metrics['mean_absolute_error'] = mean_absolute_error(pred, self.y_test)\n",
    "            metrics['mean_squared_error'] = mean_squared_error(pred, self.y_test)\n",
    "        \n",
    "        return metrics"
   ]
  },
  {
   "cell_type": "code",
   "execution_count": 3,
   "metadata": {
    "collapsed": true
   },
   "outputs": [],
   "source": [
    "from sklearn.datasets import load_breast_cancer\n",
    "data = load_breast_cancer()"
   ]
  },
  {
   "cell_type": "code",
   "execution_count": 4,
   "metadata": {
    "collapsed": false
   },
   "outputs": [
    {
     "data": {
      "text/plain": [
       "dict_keys(['feature_names', 'DESCR', 'data', 'target', 'target_names', 'filename'])"
      ]
     },
     "execution_count": 4,
     "metadata": {},
     "output_type": "execute_result"
    }
   ],
   "source": [
    "data.keys()"
   ]
  },
  {
   "cell_type": "code",
   "execution_count": 5,
   "metadata": {
    "collapsed": false
   },
   "outputs": [
    {
     "data": {
      "text/plain": [
       "(569, 30)"
      ]
     },
     "execution_count": 5,
     "metadata": {},
     "output_type": "execute_result"
    }
   ],
   "source": [
    "data['data'].shape"
   ]
  },
  {
   "cell_type": "code",
   "execution_count": 6,
   "metadata": {
    "collapsed": false
   },
   "outputs": [
    {
     "data": {
      "text/plain": [
       "(30,)"
      ]
     },
     "execution_count": 6,
     "metadata": {},
     "output_type": "execute_result"
    }
   ],
   "source": [
    "data['feature_names'].shape"
   ]
  },
  {
   "cell_type": "code",
   "execution_count": 7,
   "metadata": {
    "collapsed": false
   },
   "outputs": [
    {
     "data": {
      "text/plain": [
       "(569,)"
      ]
     },
     "execution_count": 7,
     "metadata": {},
     "output_type": "execute_result"
    }
   ],
   "source": [
    "data['target'].shape"
   ]
  },
  {
   "cell_type": "code",
   "execution_count": 8,
   "metadata": {
    "collapsed": false
   },
   "outputs": [
    {
     "data": {
      "text/plain": [
       "array(['malignant', 'benign'], dtype='<U9')"
      ]
     },
     "execution_count": 8,
     "metadata": {},
     "output_type": "execute_result"
    }
   ],
   "source": [
    "data['target_names']"
   ]
  },
  {
   "cell_type": "code",
   "execution_count": 9,
   "metadata": {
    "collapsed": true
   },
   "outputs": [],
   "source": [
    "df = pd.DataFrame(columns=data['feature_names'], data=data['data'])\n",
    "df['target'] = data['target']"
   ]
  },
  {
   "cell_type": "code",
   "execution_count": 10,
   "metadata": {
    "collapsed": false
   },
   "outputs": [
    {
     "name": "stdout",
     "output_type": "stream",
     "text": [
      "Generation 1 - Current best internal CV score: 0.9673717948717948\n",
      "Generation 2 - Current best internal CV score: 0.9723717948717949\n",
      "\n",
      "Best pipeline: GradientBoostingClassifier(input_matrix, learning_rate=0.5, max_depth=6, max_features=0.8500000000000001, min_samples_leaf=11, min_samples_split=14, n_estimators=100, subsample=0.6000000000000001)\n"
     ]
    }
   ],
   "source": [
    "auto_ml_model = AutoMLEstimator(task='classification', speed=2, test_size=0.3)\n",
    "auto_ml_model.run_automl(df, target_column='target')"
   ]
  },
  {
   "cell_type": "code",
   "execution_count": 11,
   "metadata": {
    "collapsed": false
   },
   "outputs": [
    {
     "data": {
      "text/plain": [
       "{'crossover_count': 0,\n",
       " 'generation': 'INVALID',\n",
       " 'internal_cv_score': 0.9397435897435897,\n",
       " 'mutation_count': 2,\n",
       " 'operator_count': 2,\n",
       " 'predecessor': ('ExtraTreesClassifier(input_matrix, ExtraTreesClassifier__bootstrap=True, ExtraTreesClassifier__criterion=entropy, ExtraTreesClassifier__max_features=0.7500000000000001, ExtraTreesClassifier__min_samples_leaf=8, ExtraTreesClassifier__min_samples_split=3, ExtraTreesClassifier__n_estimators=100)',)}"
      ]
     },
     "execution_count": 11,
     "metadata": {},
     "output_type": "execute_result"
    }
   ],
   "source": [
    "list(auto_ml_model.tpot_model.evaluated_individuals_.values())[0]"
   ]
  },
  {
   "cell_type": "code",
   "execution_count": 12,
   "metadata": {
    "collapsed": true
   },
   "outputs": [],
   "source": [
    "from sklearn.datasets import load_boston\n",
    "data = load_boston()\n",
    "df = pd.DataFrame(columns=data['feature_names'], data=data['data'])\n",
    "df['target'] = data['target']"
   ]
  },
  {
   "cell_type": "code",
   "execution_count": 13,
   "metadata": {
    "collapsed": false
   },
   "outputs": [
    {
     "name": "stdout",
     "output_type": "stream",
     "text": [
      "Generation 1 - Current best internal CV score: -15.445139196926988\n",
      "Generation 2 - Current best internal CV score: -13.871244694915386\n",
      "Generation 3 - Current best internal CV score: -13.871244694915386\n",
      "Generation 4 - Current best internal CV score: -13.518966973980335\n",
      "Generation 5 - Current best internal CV score: -13.088285629211185\n",
      "\n",
      "Best pipeline: AdaBoostRegressor(AdaBoostRegressor(ZeroCount(input_matrix), learning_rate=0.5, loss=linear, n_estimators=100), learning_rate=0.5, loss=linear, n_estimators=100)\n"
     ]
    }
   ],
   "source": [
    "auto_ml_model = AutoMLEstimator(task='regression', speed=5, test_size=0.3)\n",
    "auto_ml_model.run_automl(df, target_column='target')"
   ]
  },
  {
   "cell_type": "code",
   "execution_count": 14,
   "metadata": {
    "collapsed": false
   },
   "outputs": [
    {
     "data": {
      "text/plain": [
       "defaultdict(None,\n",
       "            {'mean_absolute_error': 2.2718073638268916,\n",
       "             'mean_squared_error': 10.45529163096584,\n",
       "             'r2_score': 0.788553478479608})"
      ]
     },
     "execution_count": 14,
     "metadata": {},
     "output_type": "execute_result"
    }
   ],
   "source": [
    "auto_ml_model.evaluate_model()"
   ]
  },
  {
   "cell_type": "code",
   "execution_count": null,
   "metadata": {
    "collapsed": true
   },
   "outputs": [],
   "source": []
  }
 ],
 "metadata": {
  "anaconda-cloud": {},
  "kernelspec": {
   "display_name": "Python [conda root]",
   "language": "python",
   "name": "conda-root-py"
  },
  "language_info": {
   "codemirror_mode": {
    "name": "ipython",
    "version": 3
   },
   "file_extension": ".py",
   "mimetype": "text/x-python",
   "name": "python",
   "nbconvert_exporter": "python",
   "pygments_lexer": "ipython3",
   "version": "3.5.6"
  }
 },
 "nbformat": 4,
 "nbformat_minor": 2
}
